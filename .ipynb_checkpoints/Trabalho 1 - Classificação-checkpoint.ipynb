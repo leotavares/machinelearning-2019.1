{
 "cells": [
  {
   "cell_type": "code",
   "execution_count": 1,
   "metadata": {},
   "outputs": [],
   "source": [
    "#carregando as bibliotecas a serem utilizadas\n",
    "import pandas as pd\n",
    "import numpy as np\n",
    "import matplotlib.pyplot as plt\n",
    "\n",
    "from sklearn import svm\n",
    "from sklearn.model_selection import cross_val_score\n",
    "\n",
    "from sklearn.ensemble import RandomForestClassifier"
   ]
  },
  {
   "cell_type": "code",
   "execution_count": 2,
   "metadata": {},
   "outputs": [
    {
     "name": "stdout",
     "output_type": "stream",
     "text": [
      "             Open   High    Low  Close  Adj Close  Var.Day(%)  Class  Volume\n",
      "Date                                                                        \n",
      "2000-01-03  17098  17408  16719  16930      16930       -0.98  Baixa       0\n",
      "2000-01-04  16908  16908  15851  15851      15851       -6.37  Baixa       0\n",
      "2000-01-05  15871  16302  15350  16245      16245        2.49   Alta       0\n",
      "2000-01-06  16237  16499  15977  16107      16107       -0.85  Baixa       0\n",
      "2000-01-07  16125  16449  16125  16309      16309        1.25   Alta       0\n",
      "<class 'pandas.core.frame.DataFrame'>\n",
      "DatetimeIndex: 4785 entries, 2000-01-03 to 2019-05-03\n",
      "Data columns (total 8 columns):\n",
      "Open          4785 non-null int64\n",
      "High          4785 non-null int64\n",
      "Low           4785 non-null int64\n",
      "Close         4785 non-null int64\n",
      "Adj Close     4785 non-null int64\n",
      "Var.Day(%)    4785 non-null float64\n",
      "Class         4785 non-null category\n",
      "Volume        4785 non-null int64\n",
      "dtypes: category(1), float64(1), int64(6)\n",
      "memory usage: 303.8 KB\n",
      "None\n"
     ]
    }
   ],
   "source": [
    "#carregando os valores e limpando os dados\n",
    "bvsp = pd.read_csv(\"BVSP Index.csv\",parse_dates=['Date'],index_col='Date')\n",
    "\n",
    "#transformando o valor para float\n",
    "bvsp['Var.Day(%)']=bvsp['Var.Day(%)'].str.replace(',','.').astype('float')\n",
    "\n",
    "#remove os valores \"de lado\", passando para alta ou baixa\n",
    "bvsp['Class']=np.where(bvsp['Var.Day(%)']>=0,'Alta','Baixa')\n",
    "bvsp['Class']=bvsp['Class'].astype('category')\n",
    "\n",
    "print(bvsp.head())\n",
    "print(bvsp.info())\n",
    "bvsp_original = bvsp"
   ]
  },
  {
   "cell_type": "code",
   "execution_count": 3,
   "metadata": {},
   "outputs": [
    {
     "data": {
      "text/html": [
       "<div>\n",
       "<style scoped>\n",
       "    .dataframe tbody tr th:only-of-type {\n",
       "        vertical-align: middle;\n",
       "    }\n",
       "\n",
       "    .dataframe tbody tr th {\n",
       "        vertical-align: top;\n",
       "    }\n",
       "\n",
       "    .dataframe thead th {\n",
       "        text-align: right;\n",
       "    }\n",
       "</style>\n",
       "<table border=\"1\" class=\"dataframe\">\n",
       "  <thead>\n",
       "    <tr style=\"text-align: right;\">\n",
       "      <th></th>\n",
       "      <th>Open</th>\n",
       "      <th>High</th>\n",
       "      <th>Low</th>\n",
       "      <th>Close</th>\n",
       "      <th>Adj Close</th>\n",
       "      <th>Var.Day(%)</th>\n",
       "      <th>Class</th>\n",
       "      <th>Volume</th>\n",
       "      <th>OpenPct</th>\n",
       "      <th>HighPct</th>\n",
       "      <th>LowPct</th>\n",
       "      <th>ClosePct</th>\n",
       "    </tr>\n",
       "    <tr>\n",
       "      <th>Date</th>\n",
       "      <th></th>\n",
       "      <th></th>\n",
       "      <th></th>\n",
       "      <th></th>\n",
       "      <th></th>\n",
       "      <th></th>\n",
       "      <th></th>\n",
       "      <th></th>\n",
       "      <th></th>\n",
       "      <th></th>\n",
       "      <th></th>\n",
       "      <th></th>\n",
       "    </tr>\n",
       "  </thead>\n",
       "  <tbody>\n",
       "    <tr>\n",
       "      <th>2000-01-03</th>\n",
       "      <td>17098</td>\n",
       "      <td>17408</td>\n",
       "      <td>16719</td>\n",
       "      <td>16930</td>\n",
       "      <td>16930</td>\n",
       "      <td>-0.98</td>\n",
       "      <td>Baixa</td>\n",
       "      <td>0</td>\n",
       "      <td>NaN</td>\n",
       "      <td>NaN</td>\n",
       "      <td>NaN</td>\n",
       "      <td>NaN</td>\n",
       "    </tr>\n",
       "    <tr>\n",
       "      <th>2000-01-04</th>\n",
       "      <td>16908</td>\n",
       "      <td>16908</td>\n",
       "      <td>15851</td>\n",
       "      <td>15851</td>\n",
       "      <td>15851</td>\n",
       "      <td>-6.37</td>\n",
       "      <td>Baixa</td>\n",
       "      <td>0</td>\n",
       "      <td>-0.011112</td>\n",
       "      <td>-0.028722</td>\n",
       "      <td>-0.051917</td>\n",
       "      <td>-0.063733</td>\n",
       "    </tr>\n",
       "    <tr>\n",
       "      <th>2000-01-05</th>\n",
       "      <td>15871</td>\n",
       "      <td>16302</td>\n",
       "      <td>15350</td>\n",
       "      <td>16245</td>\n",
       "      <td>16245</td>\n",
       "      <td>2.49</td>\n",
       "      <td>Alta</td>\n",
       "      <td>0</td>\n",
       "      <td>-0.061332</td>\n",
       "      <td>-0.035841</td>\n",
       "      <td>-0.031607</td>\n",
       "      <td>0.024856</td>\n",
       "    </tr>\n",
       "    <tr>\n",
       "      <th>2000-01-06</th>\n",
       "      <td>16237</td>\n",
       "      <td>16499</td>\n",
       "      <td>15977</td>\n",
       "      <td>16107</td>\n",
       "      <td>16107</td>\n",
       "      <td>-0.85</td>\n",
       "      <td>Baixa</td>\n",
       "      <td>0</td>\n",
       "      <td>0.023061</td>\n",
       "      <td>0.012084</td>\n",
       "      <td>0.040847</td>\n",
       "      <td>-0.008495</td>\n",
       "    </tr>\n",
       "    <tr>\n",
       "      <th>2000-01-07</th>\n",
       "      <td>16125</td>\n",
       "      <td>16449</td>\n",
       "      <td>16125</td>\n",
       "      <td>16309</td>\n",
       "      <td>16309</td>\n",
       "      <td>1.25</td>\n",
       "      <td>Alta</td>\n",
       "      <td>0</td>\n",
       "      <td>-0.006898</td>\n",
       "      <td>-0.003030</td>\n",
       "      <td>0.009263</td>\n",
       "      <td>0.012541</td>\n",
       "    </tr>\n",
       "  </tbody>\n",
       "</table>\n",
       "</div>"
      ],
      "text/plain": [
       "             Open   High    Low  Close  Adj Close  Var.Day(%)  Class  Volume  \\\n",
       "Date                                                                           \n",
       "2000-01-03  17098  17408  16719  16930      16930       -0.98  Baixa       0   \n",
       "2000-01-04  16908  16908  15851  15851      15851       -6.37  Baixa       0   \n",
       "2000-01-05  15871  16302  15350  16245      16245        2.49   Alta       0   \n",
       "2000-01-06  16237  16499  15977  16107      16107       -0.85  Baixa       0   \n",
       "2000-01-07  16125  16449  16125  16309      16309        1.25   Alta       0   \n",
       "\n",
       "             OpenPct   HighPct    LowPct  ClosePct  \n",
       "Date                                                \n",
       "2000-01-03       NaN       NaN       NaN       NaN  \n",
       "2000-01-04 -0.011112 -0.028722 -0.051917 -0.063733  \n",
       "2000-01-05 -0.061332 -0.035841 -0.031607  0.024856  \n",
       "2000-01-06  0.023061  0.012084  0.040847 -0.008495  \n",
       "2000-01-07 -0.006898 -0.003030  0.009263  0.012541  "
      ]
     },
     "execution_count": 3,
     "metadata": {},
     "output_type": "execute_result"
    }
   ],
   "source": [
    "#transformando valores absolutos em percetuais\n",
    "bvsp['OpenPct']=bvsp['Open'].pct_change()\n",
    "bvsp['HighPct']=bvsp['High'].pct_change()\n",
    "bvsp['LowPct']=bvsp['Low'].pct_change()\n",
    "bvsp['ClosePct']=bvsp['Close'].pct_change()\n",
    "\n",
    "bvsp.head()"
   ]
  },
  {
   "cell_type": "code",
   "execution_count": 4,
   "metadata": {},
   "outputs": [
    {
     "data": {
      "text/html": [
       "<div>\n",
       "<style scoped>\n",
       "    .dataframe tbody tr th:only-of-type {\n",
       "        vertical-align: middle;\n",
       "    }\n",
       "\n",
       "    .dataframe tbody tr th {\n",
       "        vertical-align: top;\n",
       "    }\n",
       "\n",
       "    .dataframe thead th {\n",
       "        text-align: right;\n",
       "    }\n",
       "</style>\n",
       "<table border=\"1\" class=\"dataframe\">\n",
       "  <thead>\n",
       "    <tr style=\"text-align: right;\">\n",
       "      <th></th>\n",
       "      <th>OpenPct</th>\n",
       "      <th>HighPct</th>\n",
       "      <th>LowPct</th>\n",
       "      <th>ClosePct</th>\n",
       "      <th>Class</th>\n",
       "    </tr>\n",
       "    <tr>\n",
       "      <th>Date</th>\n",
       "      <th></th>\n",
       "      <th></th>\n",
       "      <th></th>\n",
       "      <th></th>\n",
       "      <th></th>\n",
       "    </tr>\n",
       "  </thead>\n",
       "  <tbody>\n",
       "    <tr>\n",
       "      <th>2000-01-04</th>\n",
       "      <td>-0.011112</td>\n",
       "      <td>-0.028722</td>\n",
       "      <td>-0.051917</td>\n",
       "      <td>-0.063733</td>\n",
       "      <td>Baixa</td>\n",
       "    </tr>\n",
       "    <tr>\n",
       "      <th>2000-01-05</th>\n",
       "      <td>-0.061332</td>\n",
       "      <td>-0.035841</td>\n",
       "      <td>-0.031607</td>\n",
       "      <td>0.024856</td>\n",
       "      <td>Alta</td>\n",
       "    </tr>\n",
       "    <tr>\n",
       "      <th>2000-01-06</th>\n",
       "      <td>0.023061</td>\n",
       "      <td>0.012084</td>\n",
       "      <td>0.040847</td>\n",
       "      <td>-0.008495</td>\n",
       "      <td>Baixa</td>\n",
       "    </tr>\n",
       "    <tr>\n",
       "      <th>2000-01-07</th>\n",
       "      <td>-0.006898</td>\n",
       "      <td>-0.003030</td>\n",
       "      <td>0.009263</td>\n",
       "      <td>0.012541</td>\n",
       "      <td>Alta</td>\n",
       "    </tr>\n",
       "    <tr>\n",
       "      <th>2000-01-10</th>\n",
       "      <td>0.012403</td>\n",
       "      <td>0.036963</td>\n",
       "      <td>0.012403</td>\n",
       "      <td>0.043718</td>\n",
       "      <td>Alta</td>\n",
       "    </tr>\n",
       "  </tbody>\n",
       "</table>\n",
       "</div>"
      ],
      "text/plain": [
       "             OpenPct   HighPct    LowPct  ClosePct  Class\n",
       "Date                                                     \n",
       "2000-01-04 -0.011112 -0.028722 -0.051917 -0.063733  Baixa\n",
       "2000-01-05 -0.061332 -0.035841 -0.031607  0.024856   Alta\n",
       "2000-01-06  0.023061  0.012084  0.040847 -0.008495  Baixa\n",
       "2000-01-07 -0.006898 -0.003030  0.009263  0.012541   Alta\n",
       "2000-01-10  0.012403  0.036963  0.012403  0.043718   Alta"
      ]
     },
     "execution_count": 4,
     "metadata": {},
     "output_type": "execute_result"
    }
   ],
   "source": [
    "#tirando os valores desnecessários para a classificação\n",
    "bvsp = bvsp[['OpenPct','HighPct','LowPct','ClosePct','Class']].dropna()\n",
    "bvsp.head()"
   ]
  },
  {
   "cell_type": "code",
   "execution_count": 5,
   "metadata": {},
   "outputs": [
    {
     "name": "stdout",
     "output_type": "stream",
     "text": [
      "            OpenPct_d-1  HighPct_d-1  LowPct_d-1  ClosePct_d-1  OpenPct_d-2  \\\n",
      "Date                                                                          \n",
      "2000-02-16    -0.014655    -0.018178   -0.016623      0.005724    -0.029622   \n",
      "\n",
      "            HighPct_d-2  LowPct_d-2  ClosePct_d-2  OpenPct_d-3  HighPct_d-3  \\\n",
      "Date                                                                          \n",
      "2000-02-16    -0.027217   -0.015588     -0.014599     0.014591     0.005516   \n",
      "\n",
      "            ...  ClosePct_d-28  OpenPct_d-29  HighPct_d-29  LowPct_d-29  \\\n",
      "Date        ...                                                           \n",
      "2000-02-16  ...      -0.008495     -0.061332     -0.035841    -0.031607   \n",
      "\n",
      "            ClosePct_d-29  OpenPct_d-30  HighPct_d-30  LowPct_d-30  \\\n",
      "Date                                                                 \n",
      "2000-02-16       0.024856     -0.011112     -0.028722    -0.051917   \n",
      "\n",
      "            ClosePct_d-30  Class  \n",
      "Date                              \n",
      "2000-02-16      -0.063733   Alta  \n",
      "\n",
      "[1 rows x 121 columns]\n",
      "            OpenPct_d-1  HighPct_d-1  LowPct_d-1  ClosePct_d-1  OpenPct_d-2  \\\n",
      "Date                                                                          \n",
      "2019-05-03     0.001539    -0.003805   -0.003148     -0.008562    -0.000655   \n",
      "\n",
      "            HighPct_d-2  LowPct_d-2  ClosePct_d-2  OpenPct_d-3  HighPct_d-3  \\\n",
      "Date                                                                          \n",
      "2019-05-03    -0.004283   -0.004073      0.001715    -0.003086     0.005799   \n",
      "\n",
      "            ...  ClosePct_d-28  OpenPct_d-29  HighPct_d-29  LowPct_d-29  \\\n",
      "Date        ...                                                           \n",
      "2019-05-03  ...      -0.030952     -0.015534     -0.016669     -0.02577   \n",
      "\n",
      "            ClosePct_d-29  OpenPct_d-30  HighPct_d-30  LowPct_d-30  \\\n",
      "Date                                                                 \n",
      "2019-05-03      -0.013382      -0.00403     -0.007278    -0.014008   \n",
      "\n",
      "            ClosePct_d-30  Class  \n",
      "Date                              \n",
      "2019-05-03      -0.015534   Alta  \n",
      "\n",
      "[1 rows x 121 columns]\n"
     ]
    }
   ],
   "source": [
    "#serão utilizados os valores de Percetual Change (pct_change) dos 7 dias anteriores para gerar a classe\n",
    "n_dias = 30\n",
    "bvspData = pd.DataFrame(index=bvsp.index)\n",
    "for i in range(n_dias):\n",
    "    shiftedValues = bvsp[['OpenPct','HighPct','LowPct','ClosePct']].shift(periods=i+1).add_suffix('_d-'+str(i+1))\n",
    "    bvspData = bvspData.join(shiftedValues)\n",
    "    #print(shiftedValues.head(7))\n",
    "\n",
    "bvspData = bvspData.join(bvsp['Class']).dropna()\n",
    "print(bvspData.head(1))\n",
    "print(bvspData.tail(1))"
   ]
  },
  {
   "cell_type": "code",
   "execution_count": 6,
   "metadata": {},
   "outputs": [
    {
     "name": "stdout",
     "output_type": "stream",
     "text": [
      "(4754, 120)\n",
      "(4754,)\n"
     ]
    }
   ],
   "source": [
    "#transformando os dados em numpy array\n",
    "train_data = np.array(bvspData.iloc[:,:-1])\n",
    "print(train_data.shape)\n",
    "\n",
    "#mudando a classe para valor numérico\n",
    "class_data = np.where(bvspData.iloc[:,-1]=='Alta',1,0)\n",
    "print(class_data.shape)"
   ]
  },
  {
   "cell_type": "code",
   "execution_count": 7,
   "metadata": {},
   "outputs": [
    {
     "name": "stdout",
     "output_type": "stream",
     "text": [
      "Score mínimo para linear: 0.519453207150368\n",
      "Score mínimo para poly: 0.49842271293375395\n",
      "Score mínimo para rbf: 0.501577287066246\n",
      "Score mínimo para sigmoid: 0.48580441640378547\n",
      "{'linear': array([0.51945321, 0.51945321, 0.51945321, 0.51945321, 0.52      ]), 'poly': array([0.50683491, 0.51735016, 0.50262881, 0.49842271, 0.53368421]), 'rbf': array([0.51945321, 0.50683491, 0.51735016, 0.50157729, 0.51473684]), 'sigmoid': array([0.49842271, 0.48580442, 0.50473186, 0.52681388, 0.52      ])}\n"
     ]
    }
   ],
   "source": [
    "#realizando a classificação usando SVM e Cross Validation com diferentes kernels\n",
    "kernels = [ 'linear', 'poly', 'rbf', 'sigmoid']\n",
    "scores={}\n",
    "for kernelName in kernels:\n",
    "    clf = svm.SVC(kernel=kernelName,gamma='scale')\n",
    "    score = cross_val_score(clf, train_data, class_data, cv=5)\n",
    "    print('Score mínimo para '+kernelName+\": \"+str(np.min(score)))\n",
    "    scores[kernelName]=score\n",
    "print(scores)"
   ]
  },
  {
   "cell_type": "code",
   "execution_count": 8,
   "metadata": {},
   "outputs": [
    {
     "name": "stdout",
     "output_type": "stream",
     "text": [
      "[0.51524711 0.52471083 0.51629863 0.51735016 0.52947368]\n"
     ]
    }
   ],
   "source": [
    "#realizando a classificação usando RandomForest\n",
    "clf = RandomForestClassifier(n_estimators=100, max_depth=2,random_state=0)\n",
    "score = cross_val_score(clf, train_data, class_data, cv = 5)\n",
    "print(score)"
   ]
  },
  {
   "cell_type": "code",
   "execution_count": 9,
   "metadata": {},
   "outputs": [
    {
     "data": {
      "image/png": "[encoded data removed]",
      "text/plain": [
       "<Figure size 432x288 with 1 Axes>"
      ]
     },
     "metadata": {
      "needs_background": "light"
     },
     "output_type": "display_data"
    },
    {
     "name": "stdout",
     "output_type": "stream",
     "text": [
      "Features com valor acima do threshold:\n",
      "Index(['OpenPct_d-2', 'HighPct_d-2', 'HighPct_d-3', 'LowPct_d-3',\n",
      "       'ClosePct_d-3', 'OpenPct_d-4', 'HighPct_d-5', 'HighPct_d-6',\n",
      "       'ClosePct_d-6', 'LowPct_d-7', 'OpenPct_d-9', 'HighPct_d-9',\n",
      "       'HighPct_d-10', 'ClosePct_d-10', 'HighPct_d-12', 'OpenPct_d-13',\n",
      "       'LowPct_d-13', 'ClosePct_d-13', 'ClosePct_d-14', 'HighPct_d-15',\n",
      "       'ClosePct_d-15', 'OpenPct_d-17', 'LowPct_d-17', 'OpenPct_d-19',\n",
      "       'LowPct_d-19', 'HighPct_d-20', 'ClosePct_d-20', 'ClosePct_d-21',\n",
      "       'HighPct_d-23', 'ClosePct_d-23', 'ClosePct_d-24', 'OpenPct_d-25',\n",
      "       'HighPct_d-25', 'ClosePct_d-25', 'OpenPct_d-26', 'HighPct_d-26',\n",
      "       'ClosePct_d-26', 'LowPct_d-27', 'ClosePct_d-27', 'OpenPct_d-28',\n",
      "       'HighPct_d-28', 'LowPct_d-28', 'LowPct_d-29', 'ClosePct_d-29',\n",
      "       'HighPct_d-30', 'ClosePct_d-30'],\n",
      "      dtype='object')\n"
     ]
    }
   ],
   "source": [
    "#analisando a importância dos parâmetros\n",
    "clf.fit(train_data,class_data)\n",
    "featureImportance = pd.DataFrame(index=bvspData.iloc[:,:-1].columns)\n",
    "featureImportance['Value'] = 0\n",
    "\n",
    "#colocando os valores em um dataframe para poder plotar\n",
    "i = 0\n",
    "for value in clf.feature_importances_:\n",
    "    featureImportance.iloc[i,0]=value\n",
    "    i+=1\n",
    "\n",
    "#plotando o dataframe\n",
    "ax = featureImportance.plot(kind='bar')\n",
    "ax.axhline(y=np.mean(featureImportance['Value']),color='r',linestyle='--')\n",
    "plt.show()\n",
    "print('Features com valor acima do threshold:')\n",
    "important = featureImportance[featureImportance['Value']>=np.mean(featureImportance['Value'])].index\n",
    "print(important)"
   ]
  },
  {
   "cell_type": "code",
   "execution_count": 19,
   "metadata": {},
   "outputs": [
    {
     "name": "stdout",
     "output_type": "stream",
     "text": [
      "            OpenPct_d-2  HighPct_d-2  HighPct_d-3  LowPct_d-3  ClosePct_d-3  \\\n",
      "Date                                                                          \n",
      "2000-02-16    -0.029622    -0.027217     0.005516   -0.007050     -0.028005   \n",
      "2000-02-17    -0.014655    -0.018178    -0.027217   -0.015588     -0.014599   \n",
      "2000-02-18     0.005781     0.017566    -0.018178   -0.016623      0.005724   \n",
      "2000-02-21     0.010881     0.002740     0.017566    0.016733      0.010658   \n",
      "2000-02-22    -0.007562    -0.015795     0.002740    0.013301     -0.007343   \n",
      "\n",
      "            OpenPct_d-4  HighPct_d-5  HighPct_d-6  ClosePct_d-6  LowPct_d-7  \\\n",
      "Date                                                                          \n",
      "2000-02-16    -0.020897     0.008383     0.033267      0.030895    0.015740   \n",
      "2000-02-17     0.014591    -0.011331     0.008383     -0.017393    0.028344   \n",
      "2000-02-18    -0.029622     0.005516    -0.011331      0.013235   -0.001370   \n",
      "2000-02-21    -0.014655    -0.027217     0.005516     -0.028005   -0.003786   \n",
      "2000-02-22     0.005781    -0.018178    -0.027217     -0.014599   -0.007050   \n",
      "\n",
      "            ...  ClosePct_d-26  LowPct_d-27  ClosePct_d-27  OpenPct_d-28  \\\n",
      "Date        ...                                                            \n",
      "2000-02-16  ...       0.043718     0.009263       0.012541      0.023061   \n",
      "2000-02-17  ...      -0.026378     0.012403       0.043718     -0.006898   \n",
      "2000-02-18  ...       0.002655     0.015191      -0.026378      0.012403   \n",
      "2000-02-21  ...       0.040982    -0.014602       0.002655      0.044104   \n",
      "2000-02-22  ...       0.020812     0.020329       0.040982     -0.027633   \n",
      "\n",
      "            HighPct_d-28  LowPct_d-28  LowPct_d-29  ClosePct_d-29  \\\n",
      "Date                                                                \n",
      "2000-02-16      0.012084     0.040847    -0.031607       0.024856   \n",
      "2000-02-17     -0.003030     0.009263     0.040847      -0.008495   \n",
      "2000-02-18      0.036963     0.012403     0.009263       0.012541   \n",
      "2000-02-21      0.008208     0.015191     0.012403       0.043718   \n",
      "2000-02-22     -0.027505    -0.014602     0.015191      -0.026378   \n",
      "\n",
      "            HighPct_d-30  ClosePct_d-30  \n",
      "Date                                     \n",
      "2000-02-16     -0.028722      -0.063733  \n",
      "2000-02-17     -0.035841       0.024856  \n",
      "2000-02-18      0.012084      -0.008495  \n",
      "2000-02-21     -0.003030       0.012541  \n",
      "2000-02-22      0.036963       0.043718  \n",
      "\n",
      "[5 rows x 46 columns]\n",
      "(4754, 45)\n",
      "[1 0 0 ... 1 0 1]\n"
     ]
    }
   ],
   "source": [
    "#usando informações das features importantes\n",
    "bvspImportant = bvspData[important]\n",
    "print(bvspImportant.head())\n",
    "\n",
    "#transformando os dados em numpy array\n",
    "train_data = np.array(bvspImportant.iloc[:,:-1])\n",
    "print(train_data.shape)\n",
    "\n",
    "#mudando a classe para valor numérico\n",
    "class_data = np.where(bvspData.iloc[:,-1]=='Alta',1,0)\n",
    "print(class_data)"
   ]
  },
  {
   "cell_type": "code",
   "execution_count": 11,
   "metadata": {},
   "outputs": [
    {
     "name": "stdout",
     "output_type": "stream",
     "text": [
      "Score médio para linear: 0.5195625657202945\n",
      "Score médio para poly: 0.5164099839504124\n",
      "Score médio para rbf: 0.5265066135369971\n",
      "Score médio para sigmoid: 0.4915880236869777\n",
      "{'linear': array([0.51945321, 0.51945321, 0.51945321, 0.51945321, 0.52      ]), 'poly': array([0.52260778, 0.52681388, 0.50262881, 0.50052576, 0.52947368]), 'rbf': array([0.50893796, 0.53522608, 0.52891693, 0.52050473, 0.53894737]), 'sigmoid': array([0.47739222, 0.52681388, 0.47739222, 0.47528917, 0.50105263])}\n",
      "0.5216676075045659\n"
     ]
    }
   ],
   "source": [
    "#realizando a classificação usando SVM e Cross Validation com diferentes kernels\n",
    "kernels = [ 'linear', 'poly', 'rbf', 'sigmoid']\n",
    "scores={}\n",
    "for kernelName in kernels:\n",
    "    clf = svm.SVC(kernel=kernelName,gamma='scale')\n",
    "    score = cross_val_score(clf, train_data, class_data, cv=5)\n",
    "    print('Score médio para '+kernelName+\": \"+str(np.mean(score)))\n",
    "    scores[kernelName]=score\n",
    "print(scores)\n",
    "\n",
    "#realizando a classificação usando RandomForest\n",
    "clf = RandomForestClassifier(n_estimators=100, max_depth=2,random_state=0)\n",
    "score = cross_val_score(clf, train_data, class_data, cv = 5)\n",
    "print(np.mean(score))"
   ]
  },
  {
   "cell_type": "code",
   "execution_count": 12,
   "metadata": {},
   "outputs": [],
   "source": [
    "#pca\n",
    "from sklearn.preprocessing import StandardScaler\n",
    "from sklearn.decomposition import PCA\n",
    "\n",
    "x = StandardScaler().fit_transform(bvspData.iloc[:,:-1])\n",
    "\n",
    "pca = PCA(n_components=2)\n",
    "principalComponents = pd.DataFrame(pca.fit_transform(x))"
   ]
  },
  {
   "cell_type": "code",
   "execution_count": 13,
   "metadata": {},
   "outputs": [
    {
     "data": {
      "image/png": "[encoded data removed]",
      "text/plain": [
       "<Figure size 432x288 with 2 Axes>"
      ]
     },
     "metadata": {
      "needs_background": "light"
     },
     "output_type": "display_data"
    }
   ],
   "source": [
    "principalComponents.plot(kind='scatter',x=0,y=1,c=class_data,cmap='viridis')\n",
    "plt.show()"
   ]
  },
  {
   "cell_type": "code",
   "execution_count": 51,
   "metadata": {},
   "outputs": [],
   "source": [
    "Df = pd.DataFrame(bvsp_original)[bvspData.index[0]:]\n",
    "\n",
    "clf = RandomForestClassifier(n_estimators=100, max_depth=2,random_state=0)\n",
    "clf.fit(train_data,class_data)\n",
    "\n",
    "Df['Predicted_Signal'] = clf.predict(train_data)"
   ]
  },
  {
   "cell_type": "code",
   "execution_count": 52,
   "metadata": {},
   "outputs": [
    {
     "data": {
      "image/png": "[encoded data removed]",
      "text/plain": [
       "<Figure size 720x360 with 1 Axes>"
      ]
     },
     "metadata": {
      "needs_background": "light"
     },
     "output_type": "display_data"
    }
   ],
   "source": [
    "# calculando o retorno usando o algoritmo\n",
    "# retirado de https://www.quora.com/Can-time-series-analysis-be-used-to-predict-stock-trends/answer/Ishan-Shah-150\n",
    "Df['Return'] = np.log(Df.Close.shift(-1) / Df.Close)*100\n",
    "Df['Strategy_Return'] = Df.Return * Df.Predicted_Signal\n",
    "Df['Strategy_Return'].cumsum().plot(figsize=(10,5))\n",
    "plt.ylabel(\"Strategy Returns (%)\")\n",
    "plt.show()"
   ]
  },
  {
   "cell_type": "code",
   "execution_count": 53,
   "metadata": {},
   "outputs": [
    {
     "name": "stdout",
     "output_type": "stream",
     "text": [
      "Acurácia = 0.7153975599495161\n"
     ]
    }
   ],
   "source": [
    "#usando xgboost\n",
    "import xgboost as xgb\n",
    "from sklearn.model_selection import train_test_split\n",
    "\n",
    "data_dmatrix = xgb.DMatrix(data=train_data,label=class_data)\n",
    "\n",
    "xg_reg = xgb.XGBClassifier()\n",
    "\n",
    "X_train, X_test, y_train, y_test = train_test_split(train_data, class_data, test_size=0.2)\n",
    "xg_reg.fit(X_train,y_train)\n",
    "\n",
    "preds = xg_reg.predict(train_data)\n",
    "Df['Predicted_Signal'] = preds\n",
    "\n",
    "print('Acurácia = ' + str(np.sum(preds==np.where(Df['Class']=='Alta',1,0))/len(Df.index)))"
   ]
  },
  {
   "cell_type": "code",
   "execution_count": 54,
   "metadata": {},
   "outputs": [
    {
     "data": {
      "image/png": "[encoded data removed]",
      "text/plain": [
       "<Figure size 720x360 with 1 Axes>"
      ]
     },
     "metadata": {
      "needs_background": "light"
     },
     "output_type": "display_data"
    }
   ],
   "source": [
    "# calculando o retorno usando o algoritmo\n",
    "# retirado de https://www.quora.com/Can-time-series-analysis-be-used-to-predict-stock-trends/answer/Ishan-Shah-150\n",
    "Df['Return'] = np.log(Df.Close.shift(-1) / Df.Close)*100\n",
    "Df['Strategy_Return'] = Df.Return * Df.Predicted_Signal\n",
    "Df['Strategy_Return'].cumsum().plot(figsize=(10,5))\n",
    "plt.ylabel(\"Strategy Returns (%)\")\n",
    "plt.show()"
   ]
  },
  {
   "cell_type": "code",
   "execution_count": 37,
   "metadata": {},
   "outputs": [
    {
     "name": "stdout",
     "output_type": "stream",
     "text": [
      "4754\n"
     ]
    }
   ],
   "source": [
    "print(len(Df.index))"
   ]
  }
 ],
 "metadata": {
  "kernelspec": {
   "display_name": "Python 3",
   "language": "python",
   "name": "python3"
  },
  "language_info": {
   "codemirror_mode": {
    "name": "ipython",
    "version": 3
   },
   "file_extension": ".py",
   "mimetype": "text/x-python",
   "name": "python",
   "nbconvert_exporter": "python",
   "pygments_lexer": "ipython3",
   "version": "3.7.3"
  }
 },
 "nbformat": 4,
 "nbformat_minor": 2
}
